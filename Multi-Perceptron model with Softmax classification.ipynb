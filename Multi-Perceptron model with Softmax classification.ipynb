{
 "cells": [
  {
   "cell_type": "markdown",
   "metadata": {},
   "source": [
    "# Multi-Perceptron model with Softmax classification"
   ]
  },
  {
   "cell_type": "markdown",
   "metadata": {},
   "source": [
    "In this notebook, I am building a multi-perceptron model i.e a neural network with 1 hidden layer. However in the output layer, instead of sigmoid unit, I am going to build a softmax unit that provides the relative probabilities of the various classes out output."
   ]
  },
  {
   "cell_type": "markdown",
   "metadata": {},
   "source": [
    "TO DO: Put up a picture of a multi-perceptron model and explain what this two layer network"
   ]
  },
  {
   "cell_type": "code",
   "execution_count": 89,
   "metadata": {
    "collapsed": false
   },
   "outputs": [],
   "source": [
    "import numpy as np\n",
    "import pandas as pd\n",
    "import matplotlib.pyplot as plt\n",
    "import random\n",
    "import pickle\n",
    "import math\n",
    "from sklearn.model_selection import train_test_split"
   ]
  },
  {
   "cell_type": "code",
   "execution_count": 90,
   "metadata": {
    "collapsed": true
   },
   "outputs": [],
   "source": [
    "%matplotlib inline\n",
    "plt.rcParams['figure.figsize'] = (10.0, 8.0) #Set default plot sizes\n",
    "plt.rcParams['image.interpolation'] = 'nearest' #Use nearest neighbor for rendering"
   ]
  },
  {
   "cell_type": "code",
   "execution_count": 91,
   "metadata": {
    "collapsed": false
   },
   "outputs": [
    {
     "name": "stdout",
     "output_type": "stream",
     "text": [
      "The autoreload extension is already loaded. To reload it, use:\n",
      "  %reload_ext autoreload\n"
     ]
    }
   ],
   "source": [
    "# Allowing notebooks to reload external python modules\n",
    "# Details: http://stackoverflow.com/questions/1907993/aut\n",
    "%load_ext autoreload\n",
    "%autoreload 2"
   ]
  },
  {
   "cell_type": "markdown",
   "metadata": {},
   "source": [
    "## Data Preparation\n",
    "Use pickle to unpack to cifar data"
   ]
  },
  {
   "cell_type": "code",
   "execution_count": 92,
   "metadata": {
    "collapsed": true
   },
   "outputs": [],
   "source": [
    "\n",
    "def unpickle(file):\n",
    "    fo = open(file, 'rb')\n",
    "    data = pickle.load(fo, encoding = 'bytes')\n",
    "    return data"
   ]
  },
  {
   "cell_type": "markdown",
   "metadata": {},
   "source": [
    "## Importing the data"
   ]
  },
  {
   "cell_type": "code",
   "execution_count": 93,
   "metadata": {
    "collapsed": false
   },
   "outputs": [],
   "source": [
    "file = 'cifar/data_batch_1'\n",
    "u = unpickle(file)\n",
    "\n",
    "x = u[b'data'].reshape(10000,3,32,32).transpose(0,2,3,1).astype('float')\n",
    "y = np.array(u[b'labels'])"
   ]
  },
  {
   "cell_type": "markdown",
   "metadata": {},
   "source": [
    "## Visualize the data"
   ]
  },
  {
   "cell_type": "code",
   "execution_count": 94,
   "metadata": {
    "collapsed": true
   },
   "outputs": [],
   "source": [
    "classes = {\"plane\":0,'car':1,'bird':2,'cat':3,'deer':4,'dog':5,'frog':6,'horse':7,'ship':9,'truck':10}"
   ]
  },
  {
   "cell_type": "code",
   "execution_count": 95,
   "metadata": {
    "collapsed": true
   },
   "outputs": [],
   "source": [
    "def show_cifar_samples(x,y,class_of_interest):\n",
    "        number_of_samples = 7\n",
    "        idclass = classes[class_of_interest]\n",
    "        y_sample = np.where(y == idclass)\n",
    "        \n",
    "        y_idx = y_sample[0][1:number_of_samples]\n",
    "        offset = 1\n",
    "        plt.figure(1)\n",
    "\n",
    "        for i in y_idx:\n",
    "\n",
    "            plt.subplot(number_of_samples,number_of_samples,offset)\n",
    "            plt.imshow(x[i].astype('uint8'))\n",
    "            if(offset == 1):\n",
    "                plt.title(class_of_interest)\n",
    "            offset= offset + 1\n",
    "            plt.axis('off')\n",
    "\n",
    "        plt.show()\n",
    "\n",
    "        y_otherclass = np.where(y!=idclass)\n",
    "        y_idx = y_otherclass[0][1:number_of_samples]\n",
    "\n",
    "        offset = 1\n",
    "        plt.figure(2)\n",
    "        \n",
    "        for i in y_idx:\n",
    "            plt.subplot(number_of_samples,number_of_samples,offset)\n",
    "            plt.imshow(x[i].astype('uint8'))\n",
    "            if(offset == 1):\n",
    "                plt.title(\"Other Class\")\n",
    "            offset= offset + 1\n",
    "            plt.axis('off')\n",
    "\n",
    "        plt.show()"
   ]
  },
  {
   "cell_type": "code",
   "execution_count": 96,
   "metadata": {
    "collapsed": true
   },
   "outputs": [],
   "source": [
    "def normalize(x):\n",
    "        #Normalizing the vector\n",
    "    mean_x = np.mean(x)\n",
    "    stddev_x = np.std(x)\n",
    "    x_output  = (x- mean_x) / stddev_x \n",
    "    \n",
    "    return(x_output)"
   ]
  },
  {
   "cell_type": "code",
   "execution_count": 97,
   "metadata": {
    "collapsed": false
   },
   "outputs": [],
   "source": [
    "def generate_cifar_train_test_set(x, y, classes, show_samples = 0):\n",
    "\n",
    "       \n",
    "    if show_samples:\n",
    "        show_cifar_samples(x,y,class_of_interest)\n",
    "\n",
    "        \n",
    "    x_dataset = x\n",
    "    y_dataset = np.zeros([len(classes.keys()),len(y)])\n",
    "    for datapoint in np.arange(len(y)):\n",
    "        class_of_datapoint = y[datapoint] #For the kth datapoint y[k] will give the object class\n",
    "        y_dataset[class_of_datapoint,datapoint] = 1 # The object class the kth datapoint belongs to is set to 1;\n",
    "                                                    # the column index- datapoint, provides the datapoint under consideration\n",
    "        \n",
    "    #Resulting y_dataset is of dimension - (# of classes, number of datapoints), so before using train_test_split,\n",
    "    # we will transform it. We will tranform it back to this dimensional form later.\n",
    "    y_dataset = y_dataset.T\n",
    "\n",
    "    \n",
    "    xtrain, xtest, y_train, y_test = train_test_split(x_dataset, y_dataset, test_size = 0.2)\n",
    "    x_train_vector = xtrain.reshape(xtrain.shape[0],-1).T\n",
    "    x_test_vector = xtest.reshape(xtest.shape[0],-1).T\n",
    "    \n",
    "    #Setting the dimensions of output vector to be (# of classes, number of datapoints),\n",
    "    y_train = y_train.T\n",
    "    y_test  = y_test.T\n",
    "    \n",
    "    x_train = normalize(x_train_vector)\n",
    "        \n",
    "    #For normalizing test data, we will use the mean and std.dev from the training data (i.e not the mean and std.dev\n",
    "    # from the test data)\n",
    "    mean_x = np.mean(x_train_vector)\n",
    "    stddev_x = np.std(x_train_vector)\n",
    "    x_test = (x_test_vector - mean_x)/stddev_x\n",
    "        \n",
    "        \n",
    "    return(x_train,y_train,x_test,y_test)"
   ]
  },
  {
   "cell_type": "code",
   "execution_count": 113,
   "metadata": {
    "collapsed": false
   },
   "outputs": [],
   "source": [
    "x_train,y_train,x_test,y_test = generate_cifar_train_test_set(x, y, classes, show_samples = 0)"
   ]
  },
  {
   "cell_type": "code",
   "execution_count": 114,
   "metadata": {
    "collapsed": false
   },
   "outputs": [
    {
     "data": {
      "text/plain": [
       "(3072, 8000)"
      ]
     },
     "execution_count": 114,
     "metadata": {},
     "output_type": "execute_result"
    }
   ],
   "source": [
    "np.shape(x_train)"
   ]
  },
  {
   "cell_type": "markdown",
   "metadata": {},
   "source": [
    "### Sigmoid"
   ]
  },
  {
   "cell_type": "markdown",
   "metadata": {},
   "source": [
    "Exponential values for moderately large numbers tend to overflow. So np.clip is used here to limit the values of the signal between -500 and 500. Since e^x is between 0 and 1, the error in using this clip is low.Additionally, here I am using a numerically stable version of sigmoid function\n",
    "Note that we can write \n",
    "$\\frac{1}{1+e^-z}$ as $\\frac{e^z}{1+e^z}$"
   ]
  },
  {
   "cell_type": "code",
   "execution_count": 99,
   "metadata": {
    "collapsed": false
   },
   "outputs": [],
   "source": [
    "import numpy as np\n",
    "def sigmoid(x):\n",
    "    x = np.clip(x, -500,500)\n",
    "    if x.any()>=0:\n",
    "        return 1/(1+ np.exp(-x))\n",
    "    else:\n",
    "        return np.exp(x)/(1 + np.exp(x))"
   ]
  },
  {
   "cell_type": "code",
   "execution_count": 186,
   "metadata": {
    "collapsed": true
   },
   "outputs": [],
   "source": [
    "def relu(x):\n",
    "    x[x<0] = 0\n",
    "    return(x)"
   ]
  },
  {
   "cell_type": "code",
   "execution_count": 339,
   "metadata": {
    "collapsed": true
   },
   "outputs": [],
   "source": [
    "def softmax(x):\n",
    "    #for stabilization of softmax, we will calculate and subtract the max value*\n",
    "    # TO DO: explain this.\n",
    "    stabilize_factor = -1*np.max(x, axis = 0, keepdims = True)\n",
    "    \n",
    "    unnormalized_probabilities = np.exp(x+stabilize_factor)\n",
    "        \n",
    "    normalization_factor = np.sum(unnormalized_probabilities,axis = 0, keepdims = True)\n",
    "    \n",
    "    #if(normalization_factor == 0):\n",
    "    #    normalized_probabilities = unnormalized_probabilities\n",
    "    #else:\n",
    "    normalized_probabilities = unnormalized_probabilities/normalization_factor\n",
    "    \n",
    "    return(normalized_probabilities)\n",
    "    "
   ]
  },
  {
   "cell_type": "markdown",
   "metadata": {
    "collapsed": false
   },
   "source": [
    "### Initialize Parameters"
   ]
  },
  {
   "cell_type": "code",
   "execution_count": 340,
   "metadata": {
    "collapsed": false
   },
   "outputs": [],
   "source": [
    "def init_parameters(dim1, dim2,std=1e-1, random = True):\n",
    "\n",
    "    if(random):\n",
    "        return(np.random.random([dim1,dim2])*std)\n",
    "    else:\n",
    "        return(np.zeros([dim1,dim2]))"
   ]
  },
  {
   "cell_type": "markdown",
   "metadata": {},
   "source": [
    "### Forward Propogation"
   ]
  },
  {
   "cell_type": "markdown",
   "metadata": {},
   "source": [
    "Here, I am assuming a single layered network. Note that event with single layered network, the layer itself can have multiple nodes. Also, I am using vectorized operations here i.e not using explicit loops. This helps in processing multiple inputs."
   ]
  },
  {
   "cell_type": "code",
   "execution_count": 341,
   "metadata": {
    "collapsed": false
   },
   "outputs": [],
   "source": [
    "#Two layer network: Forward Prop\n",
    "def fwd_prop(W1,B1,W2,B2,X,Y):\n",
    "    n_0 = np.shape(X)[0]\n",
    "    m   = np.shape(X)[1]\n",
    "    n_1 = np.shape(W1)[0]\n",
    "    n_2 = np.shape(W2)[0]\n",
    "    #print(\"n_0:\",n_0)\n",
    "    #print(\"m:\",m)\n",
    "    #print(\"n_1\",n_1)\n",
    "    \n",
    "    #Dimensions\n",
    "    # X = (n_0,m)\n",
    "    # W1 = (n_1,n_0)\n",
    "    # B1 = (n_1,1) -> Broadcast -> (n_1,m)\n",
    "    # Z1 = (n_1,m)\n",
    "    # A1 = (n_1,m)\n",
    "    \n",
    "\n",
    "    Z1 = np.dot(W1,X) + B1\n",
    "    #A1 = sigmoid(Z1)\n",
    "    A1 = relu(Z1)\n",
    "    Z2 = np.dot(W2,A1) + B2\n",
    "    A2 = softmax(Z2)\n",
    "\n",
    "   \n",
    "    return(A2,A1)"
   ]
  },
  {
   "cell_type": "markdown",
   "metadata": {},
   "source": [
    "### Note on derivation of dZ2 from cost\n",
    "\n",
    "$cost = -(1/m)*\\sum{y_i*log(\\hat y_i)}$\n",
    "\n",
    "Now,\n",
    "$\\hat y_j = \\frac{e^{z_j}}{\\sum_i{e^{z_i}}}$\n",
    "\n",
    "Let us say $y_2$ is the correct class. We need to calculate $\\frac{\\partial c}{ \\partial y_2}$ and $\\frac{\\partial c}{ \\partial y_i}$ where $i \\neq 2$\n",
    "\n",
    "1) First let us calculate:\n",
    "\n",
    "$\\frac{\\partial c}{ \\partial z_2} = \\frac{-1}{m} * \\frac{\\partial }{ \\partial z_2} \\sum{y_i*log(\\hat y_i)}$\n",
    "\n",
    "$ = \\frac{-1}{m} * \\frac{\\partial}{ \\partial z_2} (y_1*log(\\hat y_1) + y_2*log(\\hat y_2) + ...)$\n",
    "\n",
    "$ = \\frac{-1}{m} * \\frac{\\partial}{\\partial z_2}y_1*log(\\frac {e^{z_1}}{\\sum_i{e^{z_i}}}) + \\frac{\\partial }{\\partial z_2}y_2*log(\\frac {e^{z_2}}{\\sum_i{e^{z_i}}}) + ...$\n",
    "\n",
    "$ y_2 = 1, y_i = 0$ for $ {i\\neq2} $ Because true class has value 1 and rest are 0 in the given y output\n",
    "\n",
    "$ = \\frac{-1}{m} * \\frac{\\partial }{\\partial z_2}log(\\frac {e^{z_2}}{\\sum_i{e^{z_i}}})$\n",
    "\n",
    "$ = \\frac{-1}{m} * \\frac{\\sum_i{e^{z_i}}}{e^{z_2}} * \\frac{\\partial }{\\partial z_2} \\frac {e^{z_2}}{\\sum_i{e^{z_i}}}$\n",
    "\n",
    "$ = \\frac{-1}{m} *\\frac{\\sum_i{e^{z_i}}}{e^{z_2}}*\\frac{\\partial }{\\partial z_2} \\frac {e^{z_2}}{e^{z_1} + e^{z_2} + e^{z_3} + ..}$\n",
    "\n",
    "$ =  \\frac{-1}{m} *\\frac{\\sum_i{e^{z_i}}}{e^{z_2}}* \\frac{ \\sum_i {e^{z_i}}*\\frac{\\partial }{\\partial z_2} e^{z_2} - e^{z_2}*\\frac{\\partial }{\\partial z_2} \\sum_i{e^{z_i}}  }{(\\sum_i{e^{z_i}})^2}$\n",
    "\n",
    "$ =  \\frac{-1}{m} *\\frac{\\sum_i{e^{z_i}}}{e^{z_2}}* \\frac{ \\sum_i {e^{z_i}}*e^{z_2} - e^{z_2}*e^{z_2}  }{(\\sum_i{e^{z_i}})^2}$\n",
    "\n",
    "$ =  \\frac{-1}{m} *\\frac{ \\sum_i {e^{z_i}} - e^{z_2}}{\\sum_i{e^{z_i}}}$\n",
    "\n",
    "$ =  \\frac{-1}{m} *(1 - \\frac{e^{z_2}}{{\\sum_i{e^{z_i}}}})$\n",
    "\n",
    "$ =  \\frac{1}{m} *(\\frac{e^{z_2}}{{\\sum_i{e^{z_i}}}} - 1)$\n",
    "\n",
    "$ =  \\frac{1}{m} *(y_2 - 1)$\n",
    "\n",
    "$\\frac{\\partial c}{ \\partial z_2} = \\frac{1}{m} *(y_2 - 1)$  ..... (1)"
   ]
  },
  {
   "cell_type": "markdown",
   "metadata": {},
   "source": [
    "2) Next let us calculate $\\frac{\\partial c}{ \\partial z_i}$ which can be true for any $i \\neq2$. Here we will take i = 1\n",
    "\n",
    "$\\frac{\\partial c}{ \\partial z_1} = \\frac{-1}{m} * \\frac{\\partial }{ \\partial z_1} \\sum{y_i*log(\\hat y_i)}$\n",
    "\n",
    "$ = \\frac{-1}{m} * \\frac{\\partial}{ \\partial z_1} (y_1*log(\\hat y_1) + y_2*log(\\hat y_2) + ...)$\n",
    "\n",
    "$ = \\frac{-1}{m} * \\frac{\\partial}{\\partial z_1}y_1*log(\\frac {e^{z_1}}{\\sum_i{e^{z_i}}}) + \\frac{\\partial }{\\partial z_2}y_2*log(\\frac {e^{z_1}}{\\sum_i{e^{z_i}}}) + ...$\n",
    "\n",
    "$ y_2 = 1, y_i = 0$ for $ {i\\neq2} $ Because true class has value 1 and rest are 0 in the given y output\n",
    "\n",
    "$ = \\frac{-1}{m} * \\frac{\\partial }{\\partial z_1}log(\\frac {e^{z_2}}{\\sum_i{e^{z_i}}})$\n",
    "\n",
    "$ = \\frac{-1}{m} * \\frac{\\sum_i{e^{z_i}}}{e^{z_2}} * \\frac{\\partial }{\\partial z_1} \\frac {e^{z_2}}{\\sum_i{e^{z_i}}}$\n",
    "\n",
    "$ = \\frac{-1}{m} *\\frac{\\sum_i{e^{z_i}}}{e^{z_2}}*\\frac{\\partial }{\\partial z_1} \\frac {e^{z_2}}{e^{z_1} + e^{z_2} + e^{z_3} + ..}$\n",
    "\n",
    "$ =  \\frac{-1}{m} *\\frac{\\sum_i{e^{z_i}}}{e^{z_2}}* \\frac{ \\sum_i {e^{z_i}}*\\frac{\\partial }{\\partial z_1} e^{z_2} - e^{z_2}*\\frac{\\partial }{\\partial z_1} \\sum_i{e^{z_i}}  }{(\\sum_i{e^{z_i}})^2}$\n",
    "\n",
    "$ =  \\frac{-1}{m} *\\frac{\\sum_i{e^{z_i}}}{e^{z_2}}* \\frac{ \\sum_i {e^{z_i}}*0 - e^{z_2}*e^{z_1}  }{(\\sum_i{e^{z_i}})^2}$\n",
    "\n",
    "$ =  \\frac{1}{m} *\\frac{e_{z_1}}{\\sum_i{e^{z_i}}}$\n",
    "\n",
    "$ =  \\frac{1}{m} * y_1$\n",
    "\n",
    "\n",
    "$\\frac{\\partial c}{ \\partial z_1} = \\frac{1}{m} * y_1$  ..... (2)"
   ]
  },
  {
   "cell_type": "markdown",
   "metadata": {},
   "source": [
    "Hence from equation (1) and (2) we get that the for the correct class the back prop is softmax value - 1 and for incorrect class the backprop value is softmax value itself\n",
    "Hence in the upcoming back prop we can capture this as\n",
    "\n",
    "$dZ2 = \\frac{1}{m}*(A2 - Y)$ where A2 is the output of the softmax function\n",
    "    "
   ]
  },
  {
   "cell_type": "code",
   "execution_count": 342,
   "metadata": {
    "collapsed": true
   },
   "outputs": [],
   "source": [
    "\n",
    "def back_prop(A1,W1,B1,A2,W2,B2,X,Y):\n",
    "    n_0 = np.shape(X)[0]\n",
    "    m   = np.shape(X)[1]\n",
    "    n_1 = np.shape(W1)[0]\n",
    "    n_2 = np.shape(W2)[0] \n",
    "      \n",
    "    cost = (-1/m)*np.sum(Y*np.log(A2) + (1-Y)*np.log(1-A2)) + 0.5*1e-5*np.sum(W1*W1) + 0.5*1e-5*np.sum(W2*W2)\n",
    "       \n",
    "    #A2 is the output of the softmax function of Z2 i.e A2 = e^Z2/Sum(e^Z2)\n",
    "    # It is easier to just derive dcost/dZ2 directly\n",
    "    # The explanation of derivation of dZ2 is given above\n",
    "    \n",
    "    dZ2 = (1/m)*(A2 - Y)    \n",
    "\n",
    "    #shape(dW2) = shape(W2) = (n_2,n_1)\n",
    "    #Note that (1/m) factor is taken care of in the calculation of dZ2\n",
    "    \n",
    "    dW2 = np.dot(dZ2, A1.T) # (dZ2) = (n_2,m), A1 ->(n_1,m)\n",
    "                                    # Hence result shape = (n_2,n_1) = (1,n_1)\n",
    "    \n",
    "    # Z2 = np.dot(W2,A1) + B2\n",
    "    # dB2 = dZ2*1\n",
    "    # shape(dB2) = shape(B2) = (n_2,1) = ; (dZ2) = (n_2,m) hence to get (n_2,1) we sum across all columns\n",
    "    dB2 = np.sum(dZ2, axis = 1, keepdims = True) \n",
    "    \n",
    "        \n",
    "    # Z2 = np.dot(W2,A1) + B2\n",
    "    # dA1 = dZ2*W2 (consider the dimensions)\n",
    "    #(A1) = (n_1,m); (dZ2) = (n_2,m), (W2) = (n_2,n_1)\n",
    "    # Hence dot product of W2.T and dZ2 gives correct output dimenstion for dA1\n",
    "    dA1 = np.dot(W2.T,dZ2) \n",
    "    \n",
    "    ###--------Sigmoid Backprop-------##\n",
    "    # A1 = sigmoid(Z1)\n",
    "    # (A1) = (n_1,m)\n",
    "    # (Z1) = (n_1,m)\n",
    "    #dZ1 = dA1*(A1)*(1-A1) #(dA1) = (n_1,m), (A1) = (n_1,m), hence elementwise product for preserving dimensions\n",
    "    ##--------------------------------##\n",
    "    \n",
    "    ##---------- RELU Backprop---------##\n",
    "    # A1 = Relu(Z1) i.e Z1 = Z1 if Z1>0 else 0\n",
    "    # hence when derivative A1 w.r.t Z1 = 1 if Z1>0 else 0\n",
    "    \n",
    "    # NOTE: Uncomment following 4 lines for relu and comment the above dZ1 = dA1*(A1)*(1-A1)\n",
    "    Z1 = np.dot(W1,X) + B1\n",
    "    dA1dZ1 = np.zeros(np.shape(Z1))\n",
    "    dA1dZ1[Z1>0] = 1\n",
    "    dZ1 = dA1*dA1dZ1\n",
    "\n",
    "    ##---------------------------------##\n",
    "    \n",
    "    # Z1 = np.dot(W1,X) + B1\n",
    "    # dW1 = dZ1*X\n",
    "    # (dZ1) = (n_1,m); (X) = n_0,m); (W1) = (n_1,n_0). hence (dW1) = (n_1,n_0)\n",
    "    # product of dZ1* X.T gives the correct putput dimension for X\n",
    "    dW1 = np.dot(dZ1, X.T) #(dZ1) = (n_1,m); (X) = (n_0,m) hence dot product(dZ1,X.T) = (n_1,n_0)\n",
    "    \n",
    "    # Z1 = np.dot(W1,X) + B1\n",
    "    # dB1 = dZ1*1\n",
    "    #(dZ1) = (n_1,m); (B1) = (n_1,1) hence (db1 = (n_1,1)\n",
    "    # dB1 = np.sum (dZ1) along all columns to get output dimension\n",
    "    \n",
    "    #(B1) = (n_1,1) which gets broadcasted to (n_1,m); hence (dB1) = (n_1,1)\n",
    "    dB1 = np.sum(dZ1, axis = 1, keepdims = True) #(dZ1) = (n_1,m) so sum along all the columns to get (n_1,1)\n",
    "    \n",
    "    grads ={\"dW2\": dW2, \"dB2\":dB2,\"dW1\": dW1, \"dB1\":dB1}\n",
    "    \n",
    "\n",
    "    return(grads,cost)"
   ]
  },
  {
   "cell_type": "code",
   "execution_count": 343,
   "metadata": {
    "collapsed": false
   },
   "outputs": [],
   "source": [
    "def run_grad_desc(num_iterations, learning_rate,X,Y,n_1,n_2):\n",
    "    n_0, m = np.shape(X)\n",
    "    \n",
    "    W1 = init_parameters(n_1, n_0, random= True)\n",
    "    B1 = init_parameters(n_1,1, random = True)\n",
    "    \n",
    "    W2 = init_parameters(n_2, n_1, random= True)\n",
    "    B2 = init_parameters(n_2,1, random = True)\n",
    "    \n",
    "    loss_array = np.ones([num_iterations])*np.nan\n",
    "    for i in np.arange(num_iterations):\n",
    "        A2,A1 = fwd_prop(W1,B1,W2,B2,X,Y)\n",
    "    \n",
    "        grads,cost = back_prop(A1,W1,B1,A2,W2,B2,X,Y)\n",
    "        \n",
    "        W1 = W1 - learning_rate*grads[\"dW1\"]\n",
    "        B1 = B1 - learning_rate*grads[\"dB1\"]\n",
    "        W2 = W2 - learning_rate*grads[\"dW2\"]\n",
    "        B2 = B2 - learning_rate*grads[\"dB2\"]\n",
    "\n",
    "        loss_array[i] = cost\n",
    "        \n",
    "        parameter = {\"W1\":W1,\"B1\":B1,\"W2\":W2,\"B2\":B2}\n",
    "    \n",
    "    return(parameter,loss_array)"
   ]
  },
  {
   "cell_type": "code",
   "execution_count": 344,
   "metadata": {
    "collapsed": false
   },
   "outputs": [],
   "source": [
    "x_train,y_train,x_test,y_test = generate_cifar_train_test_set(x, y, classes, show_samples = 0)"
   ]
  },
  {
   "cell_type": "code",
   "execution_count": 345,
   "metadata": {
    "collapsed": false
   },
   "outputs": [
    {
     "name": "stderr",
     "output_type": "stream",
     "text": [
      "/home/animo/anaconda3/lib/python3.5/site-packages/ipykernel/__main__.py:8: RuntimeWarning: divide by zero encountered in log\n",
      "/home/animo/anaconda3/lib/python3.5/site-packages/ipykernel/__main__.py:8: RuntimeWarning: invalid value encountered in multiply\n"
     ]
    }
   ],
   "source": [
    "#Lets test on the CIFAR dataset\n",
    "params, loss_array = run_grad_desc(1000,1e-1,x_train, y_train, n_1 = 50, n_2 = 10)\n",
    "#Training data accuracy"
   ]
  },
  {
   "cell_type": "code",
   "execution_count": 315,
   "metadata": {
    "collapsed": false
   },
   "outputs": [
    {
     "name": "stderr",
     "output_type": "stream",
     "text": [
      "/home/animo/anaconda3/lib/python3.5/site-packages/ipykernel/__main__.py:2: RuntimeWarning: invalid value encountered in less\n",
      "  from ipykernel import kernelapp as app\n"
     ]
    }
   ],
   "source": [
    "y_train_predict,A1 = fwd_prop(params[\"W1\"],params[\"B1\"],params[\"W2\"],params[\"B2\"],x_train,y_train)\n",
    "y_train_predict_vector = np.argmax(y_train_predict, axis = 0)\n",
    "y_train_vector = np.argmax(y_train, axis = 0)"
   ]
  },
  {
   "cell_type": "code",
   "execution_count": 298,
   "metadata": {
    "collapsed": false
   },
   "outputs": [
    {
     "data": {
      "text/plain": [
       "0.15975"
      ]
     },
     "execution_count": 298,
     "metadata": {},
     "output_type": "execute_result"
    }
   ],
   "source": [
    "accuracy = np.sum(y_train_predict_vector == y_train_vector)/len(y_train_vector)\n",
    "accuracy"
   ]
  },
  {
   "cell_type": "code",
   "execution_count": 299,
   "metadata": {
    "collapsed": false
   },
   "outputs": [
    {
     "data": {
      "text/plain": [
       "0.14399999999999999"
      ]
     },
     "execution_count": 299,
     "metadata": {},
     "output_type": "execute_result"
    }
   ],
   "source": [
    "#Test data accuracy\n",
    "y_predict,A1 = fwd_prop(params[\"W1\"],params[\"B1\"],params[\"W2\"],params[\"B2\"],x_test,y_test)\n",
    "y_test_predict_vector = np.argmax(y_predict, axis = 0)\n",
    "y_test_vector = np.argmax(y_test, axis = 0)\n",
    "accuracy = np.sum(y_test_predict_vector == y_test_vector)/len(y_test_vector)\n",
    "accuracy"
   ]
  },
  {
   "cell_type": "code",
   "execution_count": 300,
   "metadata": {
    "collapsed": false
   },
   "outputs": [
    {
     "data": {
      "text/plain": [
       "[<matplotlib.lines.Line2D at 0x7efeb32638d0>]"
      ]
     },
     "execution_count": 300,
     "metadata": {},
     "output_type": "execute_result"
    },
    {
     "data": {
      "image/png": "[encoded data removed]",
      "text/plain": [
       "<matplotlib.figure.Figure at 0x7efeb32a0f60>"
      ]
     },
     "metadata": {},
     "output_type": "display_data"
    }
   ],
   "source": [
    "plt.plot(loss_array)"
   ]
  },
  {
   "cell_type": "code",
   "execution_count": null,
   "metadata": {
    "collapsed": true
   },
   "outputs": [],
   "source": []
  }
 ],
 "metadata": {
  "kernelspec": {
   "display_name": "Python 3",
   "language": "python",
   "name": "python3"
  },
  "language_info": {
   "codemirror_mode": {
    "name": "ipython",
    "version": 3
   },
   "file_extension": ".py",
   "mimetype": "text/x-python",
   "name": "python",
   "nbconvert_exporter": "python",
   "pygments_lexer": "ipython3",
   "version": "3.5.2"
  }
 },
 "nbformat": 4,
 "nbformat_minor": 0
}
