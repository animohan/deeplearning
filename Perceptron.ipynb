{
 "cells": [
  {
   "cell_type": "markdown",
   "metadata": {},
   "source": [
    "# Experiments with a Perceptron Model"
   ]
  },
  {
   "cell_type": "code",
   "execution_count": 1,
   "metadata": {
    "collapsed": false
   },
   "outputs": [
    {
     "name": "stderr",
     "output_type": "stream",
     "text": [
      "\n",
      "Bad key \"hist.bins\" on line 40 in\n",
      "C:\\Anaconda3\\lib\\site-packages\\matplotlib\\mpl-data\\stylelib\\_classic_test.mplstyle.\n",
      "You probably need to get an updated matplotlibrc file from\n",
      "http://github.com/matplotlib/matplotlib/blob/master/matplotlibrc.template\n",
      "or from the matplotlib source distribution\n",
      "\n",
      "Bad key \"xtick.major.bottom\" on line 254 in\n",
      "C:\\Anaconda3\\lib\\site-packages\\matplotlib\\mpl-data\\stylelib\\_classic_test.mplstyle.\n",
      "You probably need to get an updated matplotlibrc file from\n",
      "http://github.com/matplotlib/matplotlib/blob/master/matplotlibrc.template\n",
      "or from the matplotlib source distribution\n",
      "\n",
      "Bad key \"xtick.major.top\" on line 253 in\n",
      "C:\\Anaconda3\\lib\\site-packages\\matplotlib\\mpl-data\\stylelib\\_classic_test.mplstyle.\n",
      "You probably need to get an updated matplotlibrc file from\n",
      "http://github.com/matplotlib/matplotlib/blob/master/matplotlibrc.template\n",
      "or from the matplotlib source distribution\n",
      "\n",
      "Bad key \"ytick.major.left\" on line 270 in\n",
      "C:\\Anaconda3\\lib\\site-packages\\matplotlib\\mpl-data\\stylelib\\_classic_test.mplstyle.\n",
      "You probably need to get an updated matplotlibrc file from\n",
      "http://github.com/matplotlib/matplotlib/blob/master/matplotlibrc.template\n",
      "or from the matplotlib source distribution\n",
      "\n",
      "Bad key \"lines.dashdot_pattern\" on line 19 in\n",
      "C:\\Anaconda3\\lib\\site-packages\\matplotlib\\mpl-data\\stylelib\\_classic_test.mplstyle.\n",
      "You probably need to get an updated matplotlibrc file from\n",
      "http://github.com/matplotlib/matplotlib/blob/master/matplotlibrc.template\n",
      "or from the matplotlib source distribution\n",
      "\n",
      "Bad key \"date.autoformatter.second\" on line 235 in\n",
      "C:\\Anaconda3\\lib\\site-packages\\matplotlib\\mpl-data\\stylelib\\_classic_test.mplstyle.\n",
      "You probably need to get an updated matplotlibrc file from\n",
      "http://github.com/matplotlib/matplotlib/blob/master/matplotlibrc.template\n",
      "or from the matplotlib source distribution\n",
      "\n",
      "Bad key \"lines.scale_dashes\" on line 21 in\n",
      "C:\\Anaconda3\\lib\\site-packages\\matplotlib\\mpl-data\\stylelib\\_classic_test.mplstyle.\n",
      "You probably need to get an updated matplotlibrc file from\n",
      "http://github.com/matplotlib/matplotlib/blob/master/matplotlibrc.template\n",
      "or from the matplotlib source distribution\n",
      "\n",
      "Bad key \"boxplot.meanprops.markersize\" on line 370 in\n",
      "C:\\Anaconda3\\lib\\site-packages\\matplotlib\\mpl-data\\stylelib\\_classic_test.mplstyle.\n",
      "You probably need to get an updated matplotlibrc file from\n",
      "http://github.com/matplotlib/matplotlib/blob/master/matplotlibrc.template\n",
      "or from the matplotlib source distribution\n",
      "\n",
      "Bad key \"ytick.major.right\" on line 271 in\n",
      "C:\\Anaconda3\\lib\\site-packages\\matplotlib\\mpl-data\\stylelib\\_classic_test.mplstyle.\n",
      "You probably need to get an updated matplotlibrc file from\n",
      "http://github.com/matplotlib/matplotlib/blob/master/matplotlibrc.template\n",
      "or from the matplotlib source distribution\n",
      "\n",
      "Bad key \"hatch.color\" on line 37 in\n",
      "C:\\Anaconda3\\lib\\site-packages\\matplotlib\\mpl-data\\stylelib\\_classic_test.mplstyle.\n",
      "You probably need to get an updated matplotlibrc file from\n",
      "http://github.com/matplotlib/matplotlib/blob/master/matplotlibrc.template\n",
      "or from the matplotlib source distribution\n",
      "\n",
      "Bad key \"date.autoformatter.month\" on line 231 in\n",
      "C:\\Anaconda3\\lib\\site-packages\\matplotlib\\mpl-data\\stylelib\\_classic_test.mplstyle.\n",
      "You probably need to get an updated matplotlibrc file from\n",
      "http://github.com/matplotlib/matplotlib/blob/master/matplotlibrc.template\n",
      "or from the matplotlib source distribution\n",
      "C:\\Anaconda3\\lib\\site-packages\\matplotlib\\__init__.py:1069: UserWarning: Bad val \"auto\" on line #360\n",
      "\t\"boxplot.flierprops.markerfacecolor: auto\n",
      "\"\n",
      "\tin file \"C:\\Anaconda3\\lib\\site-packages\\matplotlib\\mpl-data\\stylelib\\_classic_test.mplstyle\"\n",
      "\tKey boxplot.flierprops.markerfacecolor: auto does not look like a color arg\n",
      "  (val, error_details, msg))\n",
      "\n",
      "Bad key \"axes.titlepad\" on line 184 in\n",
      "C:\\Anaconda3\\lib\\site-packages\\matplotlib\\mpl-data\\stylelib\\_classic_test.mplstyle.\n",
      "You probably need to get an updated matplotlibrc file from\n",
      "http://github.com/matplotlib/matplotlib/blob/master/matplotlibrc.template\n",
      "or from the matplotlib source distribution\n",
      "\n",
      "Bad key \"date.autoformatter.microsecond\" on line 236 in\n",
      "C:\\Anaconda3\\lib\\site-packages\\matplotlib\\mpl-data\\stylelib\\_classic_test.mplstyle.\n",
      "You probably need to get an updated matplotlibrc file from\n",
      "http://github.com/matplotlib/matplotlib/blob/master/matplotlibrc.template\n",
      "or from the matplotlib source distribution\n",
      "\n",
      "Bad key \"xtick.bottom\" on line 242 in\n",
      "C:\\Anaconda3\\lib\\site-packages\\matplotlib\\mpl-data\\stylelib\\_classic_test.mplstyle.\n",
      "You probably need to get an updated matplotlibrc file from\n",
      "http://github.com/matplotlib/matplotlib/blob/master/matplotlibrc.template\n",
      "or from the matplotlib source distribution\n",
      "\n",
      "Bad key \"ytick.minor.left\" on line 272 in\n",
      "C:\\Anaconda3\\lib\\site-packages\\matplotlib\\mpl-data\\stylelib\\_classic_test.mplstyle.\n",
      "You probably need to get an updated matplotlibrc file from\n",
      "http://github.com/matplotlib/matplotlib/blob/master/matplotlibrc.template\n",
      "or from the matplotlib source distribution\n",
      "\n",
      "Bad key \"date.autoformatter.hour\" on line 233 in\n",
      "C:\\Anaconda3\\lib\\site-packages\\matplotlib\\mpl-data\\stylelib\\_classic_test.mplstyle.\n",
      "You probably need to get an updated matplotlibrc file from\n",
      "http://github.com/matplotlib/matplotlib/blob/master/matplotlibrc.template\n",
      "or from the matplotlib source distribution\n",
      "\n",
      "Bad key \"_internal.classic_mode\" on line 526 in\n",
      "C:\\Anaconda3\\lib\\site-packages\\matplotlib\\mpl-data\\stylelib\\_classic_test.mplstyle.\n",
      "You probably need to get an updated matplotlibrc file from\n",
      "http://github.com/matplotlib/matplotlib/blob/master/matplotlibrc.template\n",
      "or from the matplotlib source distribution\n",
      "\n",
      "Bad key \"axes.formatter.offset_threshold\" on line 207 in\n",
      "C:\\Anaconda3\\lib\\site-packages\\matplotlib\\mpl-data\\stylelib\\_classic_test.mplstyle.\n",
      "You probably need to get an updated matplotlibrc file from\n",
      "http://github.com/matplotlib/matplotlib/blob/master/matplotlibrc.template\n",
      "or from the matplotlib source distribution\n",
      "\n",
      "Bad key \"ytick.right\" on line 259 in\n",
      "C:\\Anaconda3\\lib\\site-packages\\matplotlib\\mpl-data\\stylelib\\_classic_test.mplstyle.\n",
      "You probably need to get an updated matplotlibrc file from\n",
      "http://github.com/matplotlib/matplotlib/blob/master/matplotlibrc.template\n",
      "or from the matplotlib source distribution\n",
      "\n",
      "Bad key \"date.autoformatter.year\" on line 230 in\n",
      "C:\\Anaconda3\\lib\\site-packages\\matplotlib\\mpl-data\\stylelib\\_classic_test.mplstyle.\n",
      "You probably need to get an updated matplotlibrc file from\n",
      "http://github.com/matplotlib/matplotlib/blob/master/matplotlibrc.template\n",
      "or from the matplotlib source distribution\n",
      "\n",
      "Bad key \"xtick.minor.top\" on line 255 in\n",
      "C:\\Anaconda3\\lib\\site-packages\\matplotlib\\mpl-data\\stylelib\\_classic_test.mplstyle.\n",
      "You probably need to get an updated matplotlibrc file from\n",
      "http://github.com/matplotlib/matplotlib/blob/master/matplotlibrc.template\n",
      "or from the matplotlib source distribution\n",
      "\n",
      "Bad key \"date.autoformatter.day\" on line 232 in\n",
      "C:\\Anaconda3\\lib\\site-packages\\matplotlib\\mpl-data\\stylelib\\_classic_test.mplstyle.\n",
      "You probably need to get an updated matplotlibrc file from\n",
      "http://github.com/matplotlib/matplotlib/blob/master/matplotlibrc.template\n",
      "or from the matplotlib source distribution\n",
      "\n",
      "Bad key \"scatter.marker\" on line 345 in\n",
      "C:\\Anaconda3\\lib\\site-packages\\matplotlib\\mpl-data\\stylelib\\_classic_test.mplstyle.\n",
      "You probably need to get an updated matplotlibrc file from\n",
      "http://github.com/matplotlib/matplotlib/blob/master/matplotlibrc.template\n",
      "or from the matplotlib source distribution\n",
      "\n",
      "Bad key \"date.autoformatter.minute\" on line 234 in\n",
      "C:\\Anaconda3\\lib\\site-packages\\matplotlib\\mpl-data\\stylelib\\_classic_test.mplstyle.\n",
      "You probably need to get an updated matplotlibrc file from\n",
      "http://github.com/matplotlib/matplotlib/blob/master/matplotlibrc.template\n",
      "or from the matplotlib source distribution\n",
      "\n",
      "Bad key \"lines.dotted_pattern\" on line 20 in\n",
      "C:\\Anaconda3\\lib\\site-packages\\matplotlib\\mpl-data\\stylelib\\_classic_test.mplstyle.\n",
      "You probably need to get an updated matplotlibrc file from\n",
      "http://github.com/matplotlib/matplotlib/blob/master/matplotlibrc.template\n",
      "or from the matplotlib source distribution\n",
      "\n",
      "Bad key \"xtick.minor.bottom\" on line 256 in\n",
      "C:\\Anaconda3\\lib\\site-packages\\matplotlib\\mpl-data\\stylelib\\_classic_test.mplstyle.\n",
      "You probably need to get an updated matplotlibrc file from\n",
      "http://github.com/matplotlib/matplotlib/blob/master/matplotlibrc.template\n",
      "or from the matplotlib source distribution\n",
      "\n",
      "Bad key \"boxplot.meanprops.markerfacecolor\" on line 368 in\n",
      "C:\\Anaconda3\\lib\\site-packages\\matplotlib\\mpl-data\\stylelib\\_classic_test.mplstyle.\n",
      "You probably need to get an updated matplotlibrc file from\n",
      "http://github.com/matplotlib/matplotlib/blob/master/matplotlibrc.template\n",
      "or from the matplotlib source distribution\n",
      "\n",
      "Bad key \"ytick.left\" on line 258 in\n",
      "C:\\Anaconda3\\lib\\site-packages\\matplotlib\\mpl-data\\stylelib\\_classic_test.mplstyle.\n",
      "You probably need to get an updated matplotlibrc file from\n",
      "http://github.com/matplotlib/matplotlib/blob/master/matplotlibrc.template\n",
      "or from the matplotlib source distribution\n",
      "\n",
      "Bad key \"hatch.linewidth\" on line 38 in\n",
      "C:\\Anaconda3\\lib\\site-packages\\matplotlib\\mpl-data\\stylelib\\_classic_test.mplstyle.\n",
      "You probably need to get an updated matplotlibrc file from\n",
      "http://github.com/matplotlib/matplotlib/blob/master/matplotlibrc.template\n",
      "or from the matplotlib source distribution\n",
      "\n",
      "Bad key \"axes.autolimit_mode\" on line 220 in\n",
      "C:\\Anaconda3\\lib\\site-packages\\matplotlib\\mpl-data\\stylelib\\_classic_test.mplstyle.\n",
      "You probably need to get an updated matplotlibrc file from\n",
      "http://github.com/matplotlib/matplotlib/blob/master/matplotlibrc.template\n",
      "or from the matplotlib source distribution\n",
      "\n",
      "Bad key \"xtick.top\" on line 241 in\n",
      "C:\\Anaconda3\\lib\\site-packages\\matplotlib\\mpl-data\\stylelib\\_classic_test.mplstyle.\n",
      "You probably need to get an updated matplotlibrc file from\n",
      "http://github.com/matplotlib/matplotlib/blob/master/matplotlibrc.template\n",
      "or from the matplotlib source distribution\n",
      "\n",
      "Bad key \"ytick.minor.right\" on line 273 in\n",
      "C:\\Anaconda3\\lib\\site-packages\\matplotlib\\mpl-data\\stylelib\\_classic_test.mplstyle.\n",
      "You probably need to get an updated matplotlibrc file from\n",
      "http://github.com/matplotlib/matplotlib/blob/master/matplotlibrc.template\n",
      "or from the matplotlib source distribution\n",
      "\n",
      "Bad key \"lines.dashed_pattern\" on line 18 in\n",
      "C:\\Anaconda3\\lib\\site-packages\\matplotlib\\mpl-data\\stylelib\\_classic_test.mplstyle.\n",
      "You probably need to get an updated matplotlibrc file from\n",
      "http://github.com/matplotlib/matplotlib/blob/master/matplotlibrc.template\n",
      "or from the matplotlib source distribution\n",
      "\n",
      "Bad key \"boxplot.meanprops.marker\" on line 367 in\n",
      "C:\\Anaconda3\\lib\\site-packages\\matplotlib\\mpl-data\\stylelib\\_classic_test.mplstyle.\n",
      "You probably need to get an updated matplotlibrc file from\n",
      "http://github.com/matplotlib/matplotlib/blob/master/matplotlibrc.template\n",
      "or from the matplotlib source distribution\n",
      "\n",
      "Bad key \"boxplot.meanprops.markeredgecolor\" on line 369 in\n",
      "C:\\Anaconda3\\lib\\site-packages\\matplotlib\\mpl-data\\stylelib\\_classic_test.mplstyle.\n",
      "You probably need to get an updated matplotlibrc file from\n",
      "http://github.com/matplotlib/matplotlib/blob/master/matplotlibrc.template\n",
      "or from the matplotlib source distribution\n",
      "\n",
      "Bad key \"patch.force_edgecolor\" on line 33 in\n",
      "C:\\Anaconda3\\lib\\site-packages\\matplotlib\\mpl-data\\stylelib\\_classic_test.mplstyle.\n",
      "You probably need to get an updated matplotlibrc file from\n",
      "http://github.com/matplotlib/matplotlib/blob/master/matplotlibrc.template\n",
      "or from the matplotlib source distribution\n"
     ]
    }
   ],
   "source": [
    "import numpy as np\n",
    "import pandas as pd\n",
    "import matplotlib.pyplot as plt\n",
    "import random\n",
    "import pickle\n",
    "import math"
   ]
  },
  {
   "cell_type": "code",
   "execution_count": 2,
   "metadata": {
    "collapsed": true
   },
   "outputs": [],
   "source": [
    "%matplotlib inline\n",
    "plt.rcParams['figure.figsize'] = (10.0, 8.0) #Set default plot sizes\n",
    "plt.rcParams['image.interpolation'] = 'nearest' #Use nearest neighbor for rendering"
   ]
  },
  {
   "cell_type": "code",
   "execution_count": 3,
   "metadata": {
    "collapsed": true
   },
   "outputs": [],
   "source": [
    "# Allowing notebooks to reload external python modules\n",
    "# Details: http://stackoverflow.com/questions/1907993/aut\n",
    "%load_ext autoreload\n",
    "%autoreload 2"
   ]
  },
  {
   "cell_type": "markdown",
   "metadata": {},
   "source": [
    "## Data Preparation\n",
    "Use pickle to unpack to cifar data"
   ]
  },
  {
   "cell_type": "code",
   "execution_count": 4,
   "metadata": {
    "collapsed": true
   },
   "outputs": [],
   "source": [
    "\n",
    "def unpickle(file):\n",
    "    fo = open(file, 'rb')\n",
    "    data = pickle.load(fo, encoding = 'bytes')\n",
    "    return data"
   ]
  },
  {
   "cell_type": "markdown",
   "metadata": {},
   "source": [
    "Importing the data"
   ]
  },
  {
   "cell_type": "code",
   "execution_count": 5,
   "metadata": {
    "collapsed": false
   },
   "outputs": [],
   "source": [
    "file = 'cifar/data_batch_1'\n",
    "u = unpickle(file)\n",
    "\n",
    "x = u[b'data'].reshape(10000,3,32,32).transpose(0,2,3,1).astype('float')\n",
    "y = np.array(u[b'labels'])"
   ]
  },
  {
   "cell_type": "markdown",
   "metadata": {},
   "source": [
    "Visualize the data"
   ]
  },
  {
   "cell_type": "code",
   "execution_count": 6,
   "metadata": {
    "collapsed": true
   },
   "outputs": [],
   "source": [
    "classes = {\"plane\":0,'car':1,'bird':2,'cat':3,'deer':4,'dog':5,'frog':6,'horse':7,'ship':9,'truck':10}\n",
    "number_of_samples = 7\n",
    "number_of_classes = len(classes)\n",
    "class_of_interest = \"plane\"\n",
    "idclass = classes[class_of_interest]"
   ]
  },
  {
   "cell_type": "code",
   "execution_count": 7,
   "metadata": {
    "collapsed": false
   },
   "outputs": [
    {
     "data": {
      "image/png": "[encoded data removed]",
      "text/plain": [
       "<matplotlib.figure.Figure at 0x1a35e708e80>"
      ]
     },
     "metadata": {},
     "output_type": "display_data"
    }
   ],
   "source": [
    "y_sample = np.where(y == idclass)\n",
    "y_idx = y_sample[0][1:number_of_samples]\n",
    "offset = 1\n",
    "\n",
    "for i in y_idx:\n",
    "\n",
    "    plt.subplot(number_of_samples,number_of_samples,offset)\n",
    "    plt.imshow(x[i].astype('uint8'))\n",
    "    if(offset == 1):\n",
    "        plt.title(class_of_interest)\n",
    "    offset= offset + 1\n",
    "    plt.axis('off')\n",
    "\n",
    "plt.show()"
   ]
  },
  {
   "cell_type": "code",
   "execution_count": 8,
   "metadata": {
    "collapsed": false
   },
   "outputs": [
    {
     "data": {
      "image/png": "[encoded data removed]",
      "text/plain": [
       "<matplotlib.figure.Figure at 0x1a361816240>"
      ]
     },
     "metadata": {},
     "output_type": "display_data"
    }
   ],
   "source": [
    "y_otherclass = np.where(y!=idclass)\n",
    "y_idx = y_otherclass[0][1:number_of_samples]\n",
    "\n",
    "offset = 1\n",
    "for i in y_idx:\n",
    "    plt.subplot(number_of_samples,number_of_samples,offset)\n",
    "    plt.imshow(x[i].astype('uint8'))\n",
    "    if(offset == 1):\n",
    "        plt.title(\"Other Class Images\")\n",
    "    offset= offset + 1\n",
    "    plt.axis('off')\n",
    "\n",
    "plt.show()"
   ]
  },
  {
   "cell_type": "code",
   "execution_count": 9,
   "metadata": {
    "collapsed": false
   },
   "outputs": [],
   "source": [
    "x_dataset = x\n",
    "y_dataset = np.zeros(len(y))\n",
    "y_dataset[y == idclass] = 1"
   ]
  },
  {
   "cell_type": "code",
   "execution_count": 10,
   "metadata": {
    "collapsed": true
   },
   "outputs": [],
   "source": [
    "from sklearn.model_selection import train_test_split"
   ]
  },
  {
   "cell_type": "code",
   "execution_count": 11,
   "metadata": {
    "collapsed": true
   },
   "outputs": [],
   "source": [
    "xtrain, xtest, ytrain, ytest = train_test_split(x_dataset, y_dataset, test_size = 0.2)"
   ]
  },
  {
   "cell_type": "markdown",
   "metadata": {
    "collapsed": false
   },
   "source": [
    "lets us just confirm the shape of the various arrays and number of inputs"
   ]
  },
  {
   "cell_type": "code",
   "execution_count": 12,
   "metadata": {
    "collapsed": false
   },
   "outputs": [
    {
     "name": "stdout",
     "output_type": "stream",
     "text": [
      "# Training Images: 8000\n",
      "Dimensions of training image: (32, 32, 3)\n",
      "# Test Images: 2000\n",
      "Dimensions of test image: (32, 32, 3)\n"
     ]
    }
   ],
   "source": [
    "print(\"# Training Images:\", np.shape(xtrain)[0])\n",
    "print(\"Dimensions of training image:\", np.shape(xtrain)[1:4])\n",
    "print(\"# Test Images:\", np.shape(xtest)[0])\n",
    "print(\"Dimensions of test image:\", np.shape(xtest)[1:4])"
   ]
  },
  {
   "cell_type": "markdown",
   "metadata": {},
   "source": [
    "We will use vectorized operations here, so let us flatten the matrices"
   ]
  },
  {
   "cell_type": "code",
   "execution_count": 13,
   "metadata": {
    "collapsed": false
   },
   "outputs": [],
   "source": [
    "x_train_vector = xtrain.reshape(xtrain.shape[0],-1).T\n",
    "x_test_vector = xtest.reshape(xtest.shape[0],-1).T"
   ]
  },
  {
   "cell_type": "markdown",
   "metadata": {},
   "source": [
    "Confirm the shape of the arrays"
   ]
  },
  {
   "cell_type": "code",
   "execution_count": 14,
   "metadata": {
    "collapsed": false
   },
   "outputs": [
    {
     "name": "stdout",
     "output_type": "stream",
     "text": [
      "Shape of x train:  (3072, 8000)\n",
      "Shape of x test:  (3072, 2000)\n"
     ]
    }
   ],
   "source": [
    "print(\"Shape of x train: \", np.shape(x_train_vector))\n",
    "print(\"Shape of x test: \", np.shape(x_test_vector))"
   ]
  },
  {
   "cell_type": "markdown",
   "metadata": {},
   "source": [
    "Next step is not normalize the data. For normalizing, we subtract the mean from the data and divide the result by the variance."
   ]
  },
  {
   "cell_type": "code",
   "execution_count": 15,
   "metadata": {
    "collapsed": false
   },
   "outputs": [],
   "source": [
    "mean_x = np.mean(x_train_vector)\n",
    "stddev_x = np.std(x_train_vector)\n",
    "x_train = (x_train_vector - mean_x) / stddev_x \n",
    "x_test = (x_test_vector - mean_x)/stddev_x # Note we subtract the mean of the training from test set \n",
    "                                           # and we divide by the stddev of the training set."
   ]
  },
  {
   "cell_type": "markdown",
   "metadata": {},
   "source": [
    "Next we will start writing functions that help to implment the logistic regression model"
   ]
  },
  {
   "cell_type": "markdown",
   "metadata": {},
   "source": [
    "Let us define the numerically stable version of sigmoid function\n",
    "Note that we can write \n",
    "$\\frac{1}{1+e^-z}$ as $\\frac{e^z}{1+e^z}$"
   ]
  },
  {
   "cell_type": "code",
   "execution_count": 16,
   "metadata": {
    "collapsed": false
   },
   "outputs": [],
   "source": [
    "import numpy as np\n",
    "def sigmoid(x):\n",
    "    x = np.clip(x, -500,500)\n",
    "    if x.any()>=0:\n",
    "        return 1/(1+ np.exp(-x))\n",
    "    else:\n",
    "        return np.exp(x)/(1 + np.exp(x))"
   ]
  },
  {
   "cell_type": "markdown",
   "metadata": {
    "collapsed": false
   },
   "source": [
    "### Initialize Parameters"
   ]
  },
  {
   "cell_type": "code",
   "execution_count": 33,
   "metadata": {
    "collapsed": false
   },
   "outputs": [],
   "source": [
    "def init_parameters(dim1, dim2=1,std=1e-1, random = True):\n",
    "    if(random):\n",
    "        return(np.random.random([dim1,dim2])*std)\n",
    "    else:\n",
    "        return(np.zeros([dim1,dim2]))"
   ]
  },
  {
   "cell_type": "code",
   "execution_count": 93,
   "metadata": {
    "collapsed": false
   },
   "outputs": [],
   "source": [
    "#Single layer network: Forward Prop\n",
    "def fwd_prop(W1,B1,X,Y):\n",
    "    n_0 = np.shape(X)[0]\n",
    "    m   = np.shape(X)[1]\n",
    "    n_1 = np.shape(W1)[0]     \n",
    "    #print(\"n_0:\",n_0)\n",
    "    #print(\"m:\",m)\n",
    "    #print(\"n_1\",n_1)\n",
    "    \n",
    "    #Dimensions\n",
    "    # X = (n_0,m)\n",
    "    # W1 = (n_1,n_0)\n",
    "    # B1 = (n_1,1) -> Broadcast -> (n_1,m)\n",
    "    # Z1 = (n_1,m)\n",
    "    # A1 = (n_1,m)\n",
    "    Z1 = np.dot(W1,X) + B1#\n",
    "    A1 = sigmoid(Z1)\n",
    "    #print(\"A1 shape\", np.shape(A1))\n",
    "    return(A1)"
   ]
  },
  {
   "cell_type": "code",
   "execution_count": 27,
   "metadata": {
    "collapsed": true
   },
   "outputs": [],
   "source": [
    "#Single layer network: Backprop\n",
    "\n",
    "def back_prop(A1,W1,B1,X,Y):\n",
    "    n_0 = np.shape(X)[0]\n",
    "    m   = np.shape(X)[1]\n",
    "    n_1 = np.shape(W1)[0]\n",
    "    \n",
    "    \n",
    "    cost = (-1/m)*np.sum(Y*np.log(A1) + (1-Y)*np.log(1-A1))\n",
    "    #shape(dA1) = shape(A1) = (n_1,m)\n",
    "    dA1 = Y/A1 + (1-Y)/(1-A1)\n",
    "    \n",
    "    #shape(dZ1) = shape(Z1) = (n_1,m)\n",
    "    dZ1 = A1 - Y\n",
    "    \n",
    "    #shape(dW1) = shape(W1) = (n_1,n_0)\n",
    "    dW1 = (1/m) * np.dot(dZ1, X.T) # dZ1 = (n_1,m), X ->(n_0,m)\n",
    "    \n",
    "    #shape(dB1) = shape(B1) = (n_1,1)\n",
    "    dB1 = (1/m) * np.sum(dZ1, axis = 1, keepdims = True)\n",
    "    \n",
    "    grads ={\"dW1\": dW1, \"dB1\":dB1}\n",
    "    \n",
    "    return(grads,cost)"
   ]
  },
  {
   "cell_type": "code",
   "execution_count": 52,
   "metadata": {
    "collapsed": false
   },
   "outputs": [],
   "source": [
    "def run_grad_desc(num_iterations, learning_rate,X,Y,n_1):\n",
    "    n_0, m = np.shape(X)\n",
    "    \n",
    "    W1 = init_parameters(n_1, n_0, random= False)\n",
    "    B1 = init_parameters(n_1,1, random = False)\n",
    "    \n",
    "    loss_array = np.ones([num_iterations])*np.nan\n",
    "    for i in np.arange(num_iterations):\n",
    "        A1 = fwd_prop(W1,B1,X,Y)\n",
    "        grads,cost = back_prop(A1,W1,B1,X,Y)\n",
    "        \n",
    "        W1 = W1 - learning_rate*grads[\"dW1\"]\n",
    "        B1 = B1 - learning_rate*grads[\"dB1\"]\n",
    "        \n",
    "        loss_array[i] = cost\n",
    "        \n",
    "        parameter = {\"W1\":W1,\"B1\":B1}\n",
    "    \n",
    "    return(parameter,loss_array)"
   ]
  },
  {
   "cell_type": "code",
   "execution_count": 72,
   "metadata": {
    "collapsed": false
   },
   "outputs": [
    {
     "data": {
      "text/plain": [
       "array([ 0.95570178,  0.94994095,  0.73638268,  0.05419715,  0.89838582,\n",
       "        0.29067508,  0.83618053,  0.09421652,  0.20584612,  0.74686618])"
      ]
     },
     "execution_count": 72,
     "metadata": {},
     "output_type": "execute_result"
    }
   ],
   "source": [
    "np.random.random([10])"
   ]
  },
  {
   "cell_type": "code",
   "execution_count": 32,
   "metadata": {
    "collapsed": false
   },
   "outputs": [
    {
     "name": "stdout",
     "output_type": "stream",
     "text": [
      "dw = [[ 0.99993216  1.99980262]]\n",
      "db = [[ 0.49993523]]\n",
      "cost = 6.00006477319\n"
     ]
    }
   ],
   "source": [
    "w, b, X, Y = np.array([[1, 2]]), 2, np.array([[1,2], [3,4]]), np.array([[1, 0]])\n",
    "\n",
    "a1 = fwd_prop(w,b,X,Y)\n",
    "grads, cost = back_prop(a1,w, b, X, Y)\n",
    "print (\"dw = \" + str(grads[\"dW1\"]))\n",
    "print (\"db = \" + str(grads[\"dB1\"]))\n",
    "print (\"cost = \" + str(cost))"
   ]
  },
  {
   "cell_type": "code",
   "execution_count": 106,
   "metadata": {
    "collapsed": false
   },
   "outputs": [
    {
     "name": "stdout",
     "output_type": "stream",
     "text": [
      "[ 0.69314718  0.69242565  0.69170686  0.69099081  0.69027747  0.68956682\n",
      "  0.68885884  0.68815352  0.68745083  0.68675077  0.6860533   0.68535842\n",
      "  0.6846661   0.68397633  0.68328909  0.68260436  0.68192213  0.68124237\n",
      "  0.68056507  0.67989022  0.67921779  0.67854778  0.67788016  0.67721491\n",
      "  0.67655203  0.67589149  0.67523327  0.67457737  0.67392377  0.67327245\n",
      "  0.67262339  0.67197659  0.67133201  0.67068966  0.67004951  0.66941155\n",
      "  0.66877576  0.66814213  0.66751064  0.66688129  0.66625405  0.66562891\n",
      "  0.66500585  0.66438487  0.66376595  0.66314907  0.66253422  0.66192139\n",
      "  0.66131056  0.66070172  0.66009485  0.65948995  0.65888699  0.65828598\n",
      "  0.65768688  0.6570897   0.65649441  0.65590101  0.65530947  0.6547198\n",
      "  0.65413198  0.65354598  0.65296181  0.65237945  0.65179889  0.65122012\n",
      "  0.65064311  0.65006787  0.64949438  0.64892263  0.6483526   0.64778429\n",
      "  0.64721769  0.64665278  0.64608955  0.64552798  0.64496808  0.64440983\n",
      "  0.64385322  0.64329823  0.64274486  0.64219309  0.64164292  0.64109434\n",
      "  0.64054733  0.64000188  0.63945799  0.63891564  0.63837482  0.63783553\n",
      "  0.63729775  0.63676148  0.6362267   0.63569341  0.63516159  0.63463123\n",
      "  0.63410233  0.63357488  0.63304887  0.63252428]\n",
      "{'B1': array([[ 0.01983572]]), 'W1': array([[-0.17092475, -0.17696253]])}\n"
     ]
    }
   ],
   "source": [
    "X = np.array([[0.25,0.75],[0.1,0.9],[0.3,0.8],[0.8,0.25],[0.9,0.2],[0.7,0.1]])\n",
    "X = np.array([[0.11,0.12],[0.05,0.1],[0.15,0.11],[0.8,0.9],[0.9,0.8],[0.85,0.95]])\n",
    "X = X.T\n",
    "Y = np.array([1,1,1,0,0,0])\n",
    "params, loss_array = run_grad_desc(100,0.01,X,Y,n_1= 1 )\n",
    "print(loss_array)\n",
    "print(params)\n"
   ]
  },
  {
   "cell_type": "code",
   "execution_count": 103,
   "metadata": {
    "collapsed": false
   },
   "outputs": [
    {
     "data": {
      "text/plain": [
       "array([[ 0.85,  0.95,  0.78,  0.24,  0.11,  0.06],\n",
       "       [ 0.16,  0.13,  0.21,  0.78,  0.87,  0.91]])"
      ]
     },
     "execution_count": 103,
     "metadata": {},
     "output_type": "execute_result"
    }
   ],
   "source": [
    "X"
   ]
  },
  {
   "cell_type": "code",
   "execution_count": 96,
   "metadata": {
    "collapsed": false
   },
   "outputs": [
    {
     "data": {
      "text/plain": [
       "{'B1': array([[-0.00022447]]), 'W1': array([[ 0.15806844, -0.1503263 ]])}"
      ]
     },
     "execution_count": 96,
     "metadata": {},
     "output_type": "execute_result"
    }
   ],
   "source": [
    "params"
   ]
  }
 ],
 "metadata": {
  "kernelspec": {
   "display_name": "Python 3",
   "language": "python",
   "name": "python3"
  },
  "language_info": {
   "codemirror_mode": {
    "name": "ipython",
    "version": 3
   },
   "file_extension": ".py",
   "mimetype": "text/x-python",
   "name": "python",
   "nbconvert_exporter": "python",
   "pygments_lexer": "ipython3",
   "version": "3.5.2"
  }
 },
 "nbformat": 4,
 "nbformat_minor": 0
}
