{
 "cells": [
  {
   "cell_type": "markdown",
   "metadata": {},
   "source": [
    "# Experiments with a Perceptron Model"
   ]
  },
  {
   "cell_type": "code",
   "execution_count": 2,
   "metadata": {
    "collapsed": false
   },
   "outputs": [],
   "source": [
    "import numpy as np\n",
    "import pandas as pd\n",
    "import matplotlib.pyplot as plt\n",
    "import random\n",
    "import pickle\n",
    "import math"
   ]
  },
  {
   "cell_type": "code",
   "execution_count": 3,
   "metadata": {
    "collapsed": true
   },
   "outputs": [],
   "source": [
    "%matplotlib inline\n",
    "plt.rcParams['figure.figsize'] = (10.0, 8.0) #Set default plot sizes\n",
    "plt.rcParams['image.interpolation'] = 'nearest' #Use nearest neighbor for rendering"
   ]
  },
  {
   "cell_type": "code",
   "execution_count": 4,
   "metadata": {
    "collapsed": true
   },
   "outputs": [],
   "source": [
    "# Allowing notebooks to reload external python modules\n",
    "# Details: http://stackoverflow.com/questions/1907993/aut\n",
    "%load_ext autoreload\n",
    "%autoreload 2"
   ]
  },
  {
   "cell_type": "markdown",
   "metadata": {},
   "source": [
    "## Data Set\n",
    "For this simple example, I will use a handcrafted dataset"
   ]
  },
  {
   "cell_type": "code",
   "execution_count": 13,
   "metadata": {
    "collapsed": false
   },
   "outputs": [
    {
     "name": "stdout",
     "output_type": "stream",
     "text": [
      "x1: [ 1.03045453  1.06183655  1.09417428  1.12749685  1.16183424  1.19721736]\n",
      "x2: [ 1.43332941  1.52196156  1.6160744   1.71600686  1.8221188   1.93479233]\n",
      "Exponentiated values: [ 2.43512965  2.66445624  2.9153795   3.18993328  3.49034296  3.81904351]\n"
     ]
    }
   ],
   "source": [
    "#here is an artificial dataset\n",
    "x1 = np.array(np.arange(0.1,0.7,0.1))\n",
    "print(\"x1:\", np.exp(x1*0.3))\n",
    "x2 = np.array(np.arange(0.6,1.1,0.1))\n",
    "print(\"x2:\", np.exp(x2*0.6))\n",
    "\n",
    "#e^(W11*x1 + W12*x2 + B1)\n",
    "print(\"Exponentiated values:\", np.exp(0.3*x1 + 0.6*x2 + 0.5))\n",
    "\n",
    "#From the output, lets use 3 as threshold; Value>3 = class 1, value<3 = class 0\n",
    "Y = np.array([0,0,0,1,1,1])\n",
    "X = np.array([x1,x2])"
   ]
  },
  {
   "cell_type": "markdown",
   "metadata": {},
   "source": [
    "Let us define the numerically stable version of sigmoid function\n",
    "Note that we can write \n",
    "$\\frac{1}{1+e^-z}$ as $\\frac{e^z}{1+e^z}$"
   ]
  },
  {
   "cell_type": "code",
   "execution_count": 14,
   "metadata": {
    "collapsed": false
   },
   "outputs": [],
   "source": [
    "import numpy as np\n",
    "def sigmoid(x):\n",
    "    x = np.clip(x, -500,500)\n",
    "    if x.any()>=0:\n",
    "        return 1/(1+ np.exp(-x))\n",
    "    else:\n",
    "        return np.exp(x)/(1 + np.exp(x))"
   ]
  },
  {
   "cell_type": "markdown",
   "metadata": {
    "collapsed": false
   },
   "source": [
    "### Initialize Parameters"
   ]
  },
  {
   "cell_type": "code",
   "execution_count": 15,
   "metadata": {
    "collapsed": false
   },
   "outputs": [],
   "source": [
    "def init_parameters(dim1, dim2=1,std=1e-1, random = True):\n",
    "    if(random):\n",
    "        return(np.random.random([dim1,dim2])*std)\n",
    "    else:\n",
    "        return(np.zeros([dim1,dim2]))"
   ]
  },
  {
   "cell_type": "code",
   "execution_count": 16,
   "metadata": {
    "collapsed": false
   },
   "outputs": [],
   "source": [
    "#Single layer network: Forward Prop\n",
    "def fwd_prop(W1,B1,X,Y):\n",
    "    n_0 = np.shape(X)[0]\n",
    "    m   = np.shape(X)[1]\n",
    "    n_1 = np.shape(W1)[0]     \n",
    "    #print(\"n_0:\",n_0)\n",
    "    #print(\"m:\",m)\n",
    "    #print(\"n_1\",n_1)\n",
    "    \n",
    "    #Dimensions\n",
    "    # X = (n_0,m)\n",
    "    # W1 = (n_1,n_0)\n",
    "    # B1 = (n_1,1) -> Broadcast -> (n_1,m)\n",
    "    # Z1 = (n_1,m)\n",
    "    # A1 = (n_1,m)\n",
    "    Z1 = np.dot(W1,X) + B1#\n",
    "    A1 = sigmoid(Z1)\n",
    "    #print(\"A1 shape\", np.shape(A1))\n",
    "    return(A1)"
   ]
  },
  {
   "cell_type": "code",
   "execution_count": 17,
   "metadata": {
    "collapsed": true
   },
   "outputs": [],
   "source": [
    "#Single layer network: Backprop\n",
    "\n",
    "def back_prop(A1,W1,B1,X,Y):\n",
    "    n_0 = np.shape(X)[0]\n",
    "    m   = np.shape(X)[1]\n",
    "    n_1 = np.shape(W1)[0]\n",
    "    \n",
    "    \n",
    "    cost = (-1/m)*np.sum(Y*np.log(A1) + (1-Y)*np.log(1-A1))\n",
    "    #shape(dA1) = shape(A1) = (n_1,m)\n",
    "    dA1 = Y/A1 + (1-Y)/(1-A1)\n",
    "    \n",
    "    #shape(dZ1) = shape(Z1) = (n_1,m)\n",
    "    dZ1 = A1 - Y\n",
    "    \n",
    "    #shape(dW1) = shape(W1) = (n_1,n_0)\n",
    "    dW1 = (1/m) * np.dot(dZ1, X.T) # dZ1 = (n_1,m), X ->(n_0,m)\n",
    "    \n",
    "    #shape(dB1) = shape(B1) = (n_1,1)\n",
    "    dB1 = (1/m) * np.sum(dZ1, axis = 1, keepdims = True)\n",
    "    \n",
    "    grads ={\"dW1\": dW1, \"dB1\":dB1}\n",
    "    \n",
    "    return(grads,cost)"
   ]
  },
  {
   "cell_type": "code",
   "execution_count": 18,
   "metadata": {
    "collapsed": false
   },
   "outputs": [],
   "source": [
    "def run_grad_desc(num_iterations, learning_rate,X,Y,n_1):\n",
    "    n_0, m = np.shape(X)\n",
    "    \n",
    "    W1 = init_parameters(n_1, n_0, random= False)\n",
    "    B1 = init_parameters(n_1,1, random = False)\n",
    "    \n",
    "    loss_array = np.ones([num_iterations])*np.nan\n",
    "    for i in np.arange(num_iterations):\n",
    "        A1 = fwd_prop(W1,B1,X,Y)\n",
    "        grads,cost = back_prop(A1,W1,B1,X,Y)\n",
    "        \n",
    "        W1 = W1 - learning_rate*grads[\"dW1\"]\n",
    "        B1 = B1 - learning_rate*grads[\"dB1\"]\n",
    "        \n",
    "        loss_array[i] = cost\n",
    "        \n",
    "        parameter = {\"W1\":W1,\"B1\":B1}\n",
    "    \n",
    "    return(parameter,loss_array)"
   ]
  },
  {
   "cell_type": "code",
   "execution_count": 27,
   "metadata": {
    "collapsed": false
   },
   "outputs": [
    {
     "name": "stdout",
     "output_type": "stream",
     "text": [
      "{'B1': array([[-3.25316109]]), 'W1': array([[ 3.96198982,  2.33540927]])}\n"
     ]
    }
   ],
   "source": [
    "params, loss_array = run_grad_desc(100000,0.001,X,Y,n_1= 1 )\n",
    "#print(loss_array)\n",
    "print(params)"
   ]
  },
  {
   "cell_type": "code",
   "execution_count": 28,
   "metadata": {
    "collapsed": false
   },
   "outputs": [
    {
     "data": {
      "text/plain": [
       "array([-2.69798902, -1.9577596 , -1.03247283,  0.0778713 ,  1.37327279,\n",
       "        2.85373163])"
      ]
     },
     "execution_count": 28,
     "metadata": {},
     "output_type": "execute_result"
    }
   ],
   "source": [
    "X[0]*params[\"W1\"][0][0]* X[1]*params[\"W1\"][0][1] + params[\"B1\"][0]"
   ]
  },
  {
   "cell_type": "code",
   "execution_count": 29,
   "metadata": {
    "collapsed": false
   },
   "outputs": [
    {
     "data": {
      "text/plain": [
       "[<matplotlib.lines.Line2D at 0x7f0ea54ac780>]"
      ]
     },
     "execution_count": 29,
     "metadata": {},
     "output_type": "execute_result"
    },
    {
     "data": {
      "image/png": "[encoded data removed]",
      "text/plain": [
       "<matplotlib.figure.Figure at 0x7f0ea555ed68>"
      ]
     },
     "metadata": {},
     "output_type": "display_data"
    }
   ],
   "source": [
    "plt.plot(loss_array)"
   ]
  },
  {
   "cell_type": "code",
   "execution_count": 30,
   "metadata": {
    "collapsed": false
   },
   "outputs": [
    {
     "data": {
      "text/plain": [
       "array([ 0.02023499,  0.01998696,  0.0203348 ,  0.04161376,  0.04161376,\n",
       "        0.0442604 ])"
      ]
     },
     "execution_count": 30,
     "metadata": {},
     "output_type": "execute_result"
    }
   ],
   "source": [
    "X = np.array([[0.25,0.75],[0.1,0.9],[0.3,0.8],[0.8,0.25],[0.9,0.2],[0.7,0.1]])\n",
    "X = np.array([[0.11,0.12],[0.05,0.1],[0.15,0.11],[0.8,0.9],[0.9,0.8],[0.85,0.95]])\n",
    "X = X.T\n",
    "Y = np.array([1,1,1,0,0,0])\n",
    "params, loss_array = run_grad_desc(100,0.01,X,Y,n_1= 1 )\n",
    "#print(loss_array)\n",
    "X[0]*params[\"W1\"][0][0]* X[1]*params[\"W1\"][0][1] + params[\"B1\"][0]\n"
   ]
  }
 ],
 "metadata": {
  "kernelspec": {
   "display_name": "Python 3",
   "language": "python",
   "name": "python3"
  },
  "language_info": {
   "codemirror_mode": {
    "name": "ipython",
    "version": 3
   },
   "file_extension": ".py",
   "mimetype": "text/x-python",
   "name": "python",
   "nbconvert_exporter": "python",
   "pygments_lexer": "ipython3",
   "version": "3.5.2"
  }
 },
 "nbformat": 4,
 "nbformat_minor": 0
}
