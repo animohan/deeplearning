{
 "cells": [
  {
   "cell_type": "markdown",
   "metadata": {},
   "source": [
    "# Multi-Perceptron Model: Experiments with CIFAR Dataset"
   ]
  },
  {
   "cell_type": "markdown",
   "metadata": {},
   "source": [
    "TO DO: Put up a picture of a multi-perceptron model and explain what this two layer network"
   ]
  },
  {
   "cell_type": "code",
   "execution_count": 19,
   "metadata": {
    "collapsed": false
   },
   "outputs": [],
   "source": [
    "import numpy as np\n",
    "import pandas as pd\n",
    "import matplotlib.pyplot as plt\n",
    "import random\n",
    "import pickle\n",
    "import math\n",
    "from sklearn.model_selection import train_test_split"
   ]
  },
  {
   "cell_type": "code",
   "execution_count": 2,
   "metadata": {
    "collapsed": true
   },
   "outputs": [],
   "source": [
    "%matplotlib inline\n",
    "plt.rcParams['figure.figsize'] = (10.0, 8.0) #Set default plot sizes\n",
    "plt.rcParams['image.interpolation'] = 'nearest' #Use nearest neighbor for rendering"
   ]
  },
  {
   "cell_type": "code",
   "execution_count": 3,
   "metadata": {
    "collapsed": true
   },
   "outputs": [],
   "source": [
    "# Allowing notebooks to reload external python modules\n",
    "# Details: http://stackoverflow.com/questions/1907993/aut\n",
    "%load_ext autoreload\n",
    "%autoreload 2"
   ]
  },
  {
   "cell_type": "markdown",
   "metadata": {},
   "source": [
    "## Data Preparation\n",
    "Use pickle to unpack to cifar data"
   ]
  },
  {
   "cell_type": "code",
   "execution_count": 4,
   "metadata": {
    "collapsed": true
   },
   "outputs": [],
   "source": [
    "\n",
    "def unpickle(file):\n",
    "    fo = open(file, 'rb')\n",
    "    data = pickle.load(fo, encoding = 'bytes')\n",
    "    return data"
   ]
  },
  {
   "cell_type": "markdown",
   "metadata": {},
   "source": [
    "## Importing the data"
   ]
  },
  {
   "cell_type": "code",
   "execution_count": 5,
   "metadata": {
    "collapsed": false
   },
   "outputs": [],
   "source": [
    "file = 'cifar/data_batch_1'\n",
    "u = unpickle(file)\n",
    "\n",
    "x = u[b'data'].reshape(10000,3,32,32).transpose(0,2,3,1).astype('float')\n",
    "y = np.array(u[b'labels'])"
   ]
  },
  {
   "cell_type": "markdown",
   "metadata": {},
   "source": [
    "## Visualize the data"
   ]
  },
  {
   "cell_type": "code",
   "execution_count": 6,
   "metadata": {
    "collapsed": true
   },
   "outputs": [],
   "source": [
    "classes = {\"plane\":0,'car':1,'bird':2,'cat':3,'deer':4,'dog':5,'frog':6,'horse':7,'ship':9,'truck':10}"
   ]
  },
  {
   "cell_type": "code",
   "execution_count": 7,
   "metadata": {
    "collapsed": true
   },
   "outputs": [],
   "source": [
    "def show_cifar_samples(x,y,class_of_interest):\n",
    "        number_of_samples = 7\n",
    "        idclass = classes[class_of_interest]\n",
    "        y_sample = np.where(y == idclass)\n",
    "        \n",
    "        y_idx = y_sample[0][1:number_of_samples]\n",
    "        offset = 1\n",
    "        plt.figure(1)\n",
    "\n",
    "        for i in y_idx:\n",
    "\n",
    "            plt.subplot(number_of_samples,number_of_samples,offset)\n",
    "            plt.imshow(x[i].astype('uint8'))\n",
    "            if(offset == 1):\n",
    "                plt.title(class_of_interest)\n",
    "            offset= offset + 1\n",
    "            plt.axis('off')\n",
    "\n",
    "        plt.show()\n",
    "\n",
    "        y_otherclass = np.where(y!=idclass)\n",
    "        y_idx = y_otherclass[0][1:number_of_samples]\n",
    "\n",
    "        offset = 1\n",
    "        plt.figure(2)\n",
    "        \n",
    "        for i in y_idx:\n",
    "            plt.subplot(number_of_samples,number_of_samples,offset)\n",
    "            plt.imshow(x[i].astype('uint8'))\n",
    "            if(offset == 1):\n",
    "                plt.title(\"Other Class\")\n",
    "            offset= offset + 1\n",
    "            plt.axis('off')\n",
    "\n",
    "        plt.show()"
   ]
  },
  {
   "cell_type": "code",
   "execution_count": 8,
   "metadata": {
    "collapsed": true
   },
   "outputs": [],
   "source": [
    "def normalize(x):\n",
    "        #Normalizing the vector\n",
    "    mean_x = np.mean(x)\n",
    "    stddev_x = np.std(x)\n",
    "    x_output  = (x- mean_x) / stddev_x \n",
    "    \n",
    "    return(x_output)"
   ]
  },
  {
   "cell_type": "code",
   "execution_count": 9,
   "metadata": {
    "collapsed": false
   },
   "outputs": [],
   "source": [
    "def generate_cifar_train_test_set(x, y, class_of_interest, show_samples = 0):\n",
    "    if class_of_interest not in classes.keys():\n",
    "        return(\"Errr\")\n",
    "    \n",
    "    else:\n",
    "        idclass = classes[class_of_interest]\n",
    "        \n",
    "        if show_samples:\n",
    "            show_cifar_samples(x,y,class_of_interest)\n",
    "\n",
    "        \n",
    "        x_dataset = x\n",
    "        y_dataset = np.zeros(len(y))\n",
    "        y_dataset[y == idclass] = 1\n",
    "        \n",
    "        xtrain, xtest, ytrain, ytest = train_test_split(x_dataset, y_dataset, test_size = 0.2)\n",
    "        x_train_vector = xtrain.reshape(xtrain.shape[0],-1).T\n",
    "        x_test_vector = xtest.reshape(xtest.shape[0],-1).T\n",
    "        \n",
    "        x_train = normalize(x_train_vector)\n",
    "        \n",
    "        #For normalizing test data, we will use the mean and std.dev from the training data (i.e not the mean and std.dev\n",
    "        # from the test data)\n",
    "        mean_x = np.mean(x_train_vector)\n",
    "        stddev_x = np.std(x_train_vector)\n",
    "        x_test = (x_test_vector - mean_x)/stddev_x\n",
    "        \n",
    "        \n",
    "        return(x_train,ytrain,x_test,ytest)"
   ]
  },
  {
   "cell_type": "markdown",
   "metadata": {},
   "source": [
    "### Sigmoid"
   ]
  },
  {
   "cell_type": "markdown",
   "metadata": {},
   "source": [
    "Exponential values for moderately large numbers tend to overflow. So np.clip is used here to limit the values of the signal between -500 and 500. Since e^x is between 0 and 1, the error in using this clip is low.Additionally, here I am using a numerically stable version of sigmoid function\n",
    "Note that we can write \n",
    "$\\frac{1}{1+e^-z}$ as $\\frac{e^z}{1+e^z}$"
   ]
  },
  {
   "cell_type": "code",
   "execution_count": 10,
   "metadata": {
    "collapsed": false
   },
   "outputs": [],
   "source": [
    "import numpy as np\n",
    "def sigmoid(x):\n",
    "    x = np.clip(x, -500,500)\n",
    "    if x.any()>=0:\n",
    "        return 1/(1+ np.exp(-x))\n",
    "    else:\n",
    "        return np.exp(x)/(1 + np.exp(x))"
   ]
  },
  {
   "cell_type": "markdown",
   "metadata": {
    "collapsed": false
   },
   "source": [
    "### Initialize Parameters"
   ]
  },
  {
   "cell_type": "code",
   "execution_count": 11,
   "metadata": {
    "collapsed": false
   },
   "outputs": [],
   "source": [
    "def init_parameters(dim1, dim2=1,std=1e-1, random = True):\n",
    "    if(random):\n",
    "        return(np.random.random([dim1,dim2])*std)\n",
    "    else:\n",
    "        return(np.zeros([dim1,dim2]))"
   ]
  },
  {
   "cell_type": "markdown",
   "metadata": {},
   "source": [
    "### Forward Propogation"
   ]
  },
  {
   "cell_type": "markdown",
   "metadata": {},
   "source": [
    "Here, I am assuming a single layered network. Note that event with single layered network, the layer itself can have multiple nodes. Also, I am using vectorized operations here i.e not using explicit loops. This helps in processing multiple inputs."
   ]
  },
  {
   "cell_type": "code",
   "execution_count": 23,
   "metadata": {
    "collapsed": false
   },
   "outputs": [],
   "source": [
    "#Two layer network: Forward Prop\n",
    "def fwd_prop(W1,B1,W2,B2,X,Y):\n",
    "    n_0 = np.shape(X)[0]\n",
    "    m   = np.shape(X)[1]\n",
    "    n_1 = np.shape(W1)[0]\n",
    "    n_2 = np.shape(W2)[0]\n",
    "    #print(\"n_0:\",n_0)\n",
    "    #print(\"m:\",m)\n",
    "    #print(\"n_1\",n_1)\n",
    "    \n",
    "    #Dimensions\n",
    "    # X = (n_0,m)\n",
    "    # W1 = (n_1,n_0)\n",
    "    # B1 = (n_1,1) -> Broadcast -> (n_1,m)\n",
    "    # Z1 = (n_1,m)\n",
    "    # A1 = (n_1,m)\n",
    "    Z1 = np.dot(W1,X) + B1\n",
    "    A1 = sigmoid(Z1)\n",
    "    Z2 = np.dot(W2,A1) + B2\n",
    "    A2 = sigmoid(Z2)\n",
    "    #print(\"A1 shape\", np.shape(A1))\n",
    "    return(A2,A1)"
   ]
  },
  {
   "cell_type": "code",
   "execution_count": 25,
   "metadata": {
    "collapsed": true
   },
   "outputs": [],
   "source": [
    "#Single layer network: Backprop\n",
    "\n",
    "def back_prop(A1,W1,B1,A2,W2,B2,X,Y):\n",
    "    n_0 = np.shape(X)[0]\n",
    "    m   = np.shape(X)[1]\n",
    "    n_1 = np.shape(W1)[0]\n",
    "    n_2 = np.shape(W2)[0] #Note n_2 = 1 because the the final output generates 1 value for each input datapoint\n",
    "      \n",
    "    cost = (-1/m)*np.sum(Y*np.log(A2) + (1-Y)*np.log(1-A2))\n",
    "    \n",
    "    #shape(dA2) = shape(A2) = (n_2,m)->(1,m)\n",
    "    dA2 = -Y/A2 + (1-Y)/(1-A2) # (Y) -> (1,m) & (A2) -> (1,m) hence whole eqn = (1,m)\n",
    "    \n",
    "    #shape(dZ2) = shape(Z2) = (n_2,m) ->(1,m)\n",
    "    dZ2 = (1/m)*(A2 - Y)\n",
    "    \n",
    "    #shape(dW2) = shape(W2) = (n_2,n_1) = (1,n_1)\n",
    "    #Note that (1/m) factor is taken care of in the calculation of dZ2\n",
    "    \n",
    "    dW2 = np.dot(dZ2, A1.T) # (dZ2) = (n_2,m), A1 ->(n_1,m)\n",
    "                                    # Hence result shape = (n_2,n_1) = (1,n_1)\n",
    "    \n",
    "    #shape(dB2) = shape(B2) = (n_2,1) = (1,1)\n",
    "    dB2 = (1/m) * np.sum(dZ2, axis = 1, keepdims = True) \n",
    "    \n",
    "    #(A1) = (n_1,m)\n",
    "    dA1 = np.dot(W2.T,dZ2) #(dZ2) = (n_2,m), (W2) = (n_2,n_1) hence dot product of W2.T and dZ2 gives correct op\n",
    "    \n",
    "    #(Z1) = (n_1,m)\n",
    "    dZ1 = dA1*(A1)*(1-A1) #(dA1) = (n_1,m), (A1) = (n_1,m), hence elementwise product for preserving dimensions\n",
    "    \n",
    "    #(W1) = (n_1,n_0) hence (dW1) = (n_1,n_0)\n",
    "    dW1 = np.dot(dZ1, X.T) #(dZ1) = (n_1,m); (X) = (n_0,m) hence dot product(dZ1,X.T) = (n_1,n_0)\n",
    "    \n",
    "    #(B1) = (n_1,1) which gets broadcasted to (n_1,m); hence (dB1) = (n_1,1)\n",
    "    dB1 = np.sum(dZ1, axis = 1, keepdims = True) #(dZ1) = (n_1,m) so sum along all the rows to get (n_1,1)\n",
    "    \n",
    "    grads ={\"dW2\": dW2, \"dB2\":dB2,\"dW1\": dW1, \"dB1\":dB1}\n",
    "    \n",
    "    return(grads,cost)"
   ]
  },
  {
   "cell_type": "code",
   "execution_count": 22,
   "metadata": {
    "collapsed": false
   },
   "outputs": [],
   "source": [
    "def run_grad_desc(num_iterations, learning_rate,X,Y,n_1,n_2 = 1):\n",
    "    n_0, m = np.shape(X)\n",
    "    \n",
    "    W1 = init_parameters(n_1, n_0, random= False)\n",
    "    B1 = init_parameters(n_1,1, random = False)\n",
    "    \n",
    "    W2 = init_parameters(n_2, n_1, random= False)\n",
    "    B2 = init_parameters(n_2,1, random = False)\n",
    "    \n",
    "    loss_array = np.ones([num_iterations])*np.nan\n",
    "    for i in np.arange(num_iterations):\n",
    "        A2,A1 = fwd_prop(W1,B1,W2,B2,X,Y)\n",
    "        grads,cost = back_prop(A1,W1,B1,A2,W2,B2,X,Y)\n",
    "        \n",
    "        W1 = W1 - learning_rate*grads[\"dW1\"]\n",
    "        B1 = B1 - learning_rate*grads[\"dB1\"]\n",
    "        W2 = W2 - learning_rate*grads[\"dW2\"]\n",
    "        B1 = B2 - learning_rate*grads[\"dB2\"]\n",
    "\n",
    "        loss_array[i] = cost\n",
    "        \n",
    "        parameter = {\"W1\":W1,\"B1\":B1,\"W2\":W2,\"B2\":B2}\n",
    "    \n",
    "    return(parameter,loss_array)"
   ]
  },
  {
   "cell_type": "code",
   "execution_count": 20,
   "metadata": {
    "collapsed": false
   },
   "outputs": [],
   "source": [
    "x_train, y_train, x_test, y_test = generate_cifar_train_test_set(x, y, \"deer\", show_samples = 0)"
   ]
  },
  {
   "cell_type": "code",
   "execution_count": 27,
   "metadata": {
    "collapsed": false
   },
   "outputs": [],
   "source": [
    "#Lets test on the CIFAR dataset\n",
    "params, loss_array = run_grad_desc(3000,0.005,x_train, y_train, n_1 = 5, n_2 = 1)\n",
    "#Training data accuracy"
   ]
  },
  {
   "cell_type": "code",
   "execution_count": 30,
   "metadata": {
    "collapsed": false
   },
   "outputs": [
    {
     "data": {
      "text/plain": [
       "0.89975000000000005"
      ]
     },
     "execution_count": 30,
     "metadata": {},
     "output_type": "execute_result"
    }
   ],
   "source": [
    "y_train_predict,A1 = fwd_prop(params[\"W1\"],params[\"B1\"],params[\"W2\"],params[\"B2\"],x_train,y_train)\n",
    "y_train_predict[y_train_predict>=0.5] = 1\n",
    "y_train_predict[y_train_predict< 0.5] = 0\n",
    "accuracy = np.sum(y_train_predict == y_train)/len(y_train)\n",
    "accuracy"
   ]
  },
  {
   "cell_type": "code",
   "execution_count": 31,
   "metadata": {
    "collapsed": false
   },
   "outputs": [
    {
     "data": {
      "text/plain": [
       "0.90149999999999997"
      ]
     },
     "execution_count": 31,
     "metadata": {},
     "output_type": "execute_result"
    }
   ],
   "source": [
    "#Test data accuracy\n",
    "y_predict,A1 = fwd_prop(params[\"W1\"],params[\"B1\"],params[\"W2\"],params[\"B2\"],x_test,y_test)\n",
    "y_predict[y_predict>=0.5] = 1\n",
    "y_predict[y_predict< 0.5] = 0\n",
    "accuracy = np.sum(y_predict == y_test)/len(y_test)\n",
    "accuracy"
   ]
  },
  {
   "cell_type": "code",
   "execution_count": 32,
   "metadata": {
    "collapsed": false
   },
   "outputs": [
    {
     "data": {
      "text/plain": [
       "[<matplotlib.lines.Line2D at 0x7f0883816518>]"
      ]
     },
     "execution_count": 32,
     "metadata": {},
     "output_type": "execute_result"
    },
    {
     "data": {
      "image/png": "[encoded data removed]",
      "text/plain": [
       "<matplotlib.figure.Figure at 0x7f08838b96a0>"
      ]
     },
     "metadata": {},
     "output_type": "display_data"
    }
   ],
   "source": [
    "plt.plot(loss_array)"
   ]
  }
 ],
 "metadata": {
  "kernelspec": {
   "display_name": "Python 3",
   "language": "python",
   "name": "python3"
  },
  "language_info": {
   "codemirror_mode": {
    "name": "ipython",
    "version": 3
   },
   "file_extension": ".py",
   "mimetype": "text/x-python",
   "name": "python",
   "nbconvert_exporter": "python",
   "pygments_lexer": "ipython3",
   "version": "3.5.2"
  }
 },
 "nbformat": 4,
 "nbformat_minor": 0
}
